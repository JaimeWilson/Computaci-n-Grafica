{
 "cells": [
  {
   "cell_type": "markdown",
   "metadata": {},
   "source": [
    "<h1>Conversão de cores do Sistema CIEXYZ para o sistema sRGB"
   ]
  },
  {
   "cell_type": "code",
   "execution_count": 3,
   "metadata": {},
   "outputs": [],
   "source": [
    "import numpy as np"
   ]
  },
  {
   "cell_type": "code",
   "execution_count": 8,
   "metadata": {},
   "outputs": [
    {
     "name": "stdout",
     "output_type": "stream",
     "text": [
      "[0.5939945209724419, 0.5736438469594375, 0.6486990503458804]\n"
     ]
    }
   ],
   "source": [
    "def gamma(val):\n",
    "    if (val<0.0031308):\n",
    "        return 12.92*val\n",
    "    else:\n",
    "        return 1.055*val**(1.0/2.4)-0.055\n",
    "    \n",
    "def CIEXYZ_to_sRGB(XYZ):\n",
    "    Minv = np.array([[3.2404542, -1.5371385, -0.4985314],\n",
    "                     [-0.9692660, 1.8760108, 0.0415560],\n",
    "                     [0.0556434, -0.2040259, 1.0572252]])\n",
    "    rgb = np.dot(Minv,XYZ)\n",
    "    sRGB = [gamma(i) for i in rgb]\n",
    "    return sRGB\n",
    "\n",
    "sRGB = CIEXYZ_to_sRGB([0.3, 0.3, 0.4])\n",
    "print(sRGB)"
   ]
  },
  {
   "cell_type": "code",
   "execution_count": null,
   "metadata": {},
   "outputs": [],
   "source": []
  }
 ],
 "metadata": {
  "kernelspec": {
   "display_name": "Python 3",
   "language": "python",
   "name": "python3"
  },
  "language_info": {
   "codemirror_mode": {
    "name": "ipython",
    "version": 3
   },
   "file_extension": ".py",
   "mimetype": "text/x-python",
   "name": "python",
   "nbconvert_exporter": "python",
   "pygments_lexer": "ipython3",
   "version": "3.8.3"
  }
 },
 "nbformat": 4,
 "nbformat_minor": 4
}
