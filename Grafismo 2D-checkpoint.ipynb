{
 "cells": [
  {
   "cell_type": "markdown",
   "metadata": {},
   "source": [
    "# Aula 3 - Grafismo 2D e Canvas do HTML"
   ]
  },
  {
   "cell_type": "code",
   "execution_count": 1,
   "metadata": {},
   "outputs": [],
   "source": [
    "from ipycanvas import Canvas"
   ]
  },
  {
   "cell_type": "code",
   "execution_count": 2,
   "metadata": {},
   "outputs": [],
   "source": [
    "def round_rect(canvas,x,y,w,h,r):\n",
    "    canvas.begin_path()\n",
    "    canvas.move_to(x+r, y)\n",
    "    canvas.arc_to(x+w, y, x+w, y+h, r)\n",
    "    canvas.arc_to(x+w, y+h, x, y+h, r)\n",
    "    canvas.arc_to(x, y+h, x, y, r)\n",
    "    canvas.arc_to(x, y, x+w, y, r)\n",
    "    canvas.close_path()"
   ]
  },
  {
   "cell_type": "code",
   "execution_count": 3,
   "metadata": {},
   "outputs": [
    {
     "data": {
      "application/vnd.jupyter.widget-view+json": {
       "model_id": "692410c73cb4438187d120caffb566d8",
       "version_major": 2,
       "version_minor": 0
      },
      "text/plain": [
       "Canvas(height=400, sync_image_data=True, width=600)"
      ]
     },
     "metadata": {},
     "output_type": "display_data"
    }
   ],
   "source": [
    "w=600\n",
    "h=400\n",
    "canvas = Canvas(width=w, height=h, sync_image_data=True)\n",
    "\n",
    "canvas.fill_style = 'black'\n",
    "canvas.fill_rect(0,0,w,h)\n",
    "\n",
    "canvas.fill_style = 'rgb(0,0,255)'\n",
    "canvas.fill_rect(10,10,60,60)\n",
    "\n",
    "r = 200\n",
    "g = 200\n",
    "b = 10\n",
    "\n",
    "canvas.fill_style = f'rgb({r},{g},{b})'\n",
    "canvas.fill_rect(300,300,200,10)\n",
    "\n",
    "canvas.fill_style = 'white'\n",
    "canvas.stroke_style = 'red'\n",
    "round_rect(canvas, 100, 100, 140, 120, 30)\n",
    "canvas.fill()\n",
    "canvas.stroke()\n",
    "\n",
    "\n",
    "canvas.font = '30px serif'\n",
    "canvas.fill_text(\"Jaime A Castañeda Barbosa\", 180, 32)\n",
    "\n",
    "\n",
    "#tire isso daqui sem deixar de gerar a imagem corretamente\n",
    "for i in range(10):\n",
    "    canvas.fill_style = 'black'\n",
    "    canvas.fill_rect(500,50,10,10)\n",
    "canvas"
   ]
  },
  {
   "cell_type": "code",
   "execution_count": 4,
   "metadata": {},
   "outputs": [
    {
     "ename": "RuntimeError",
     "evalue": "No image data to save, please be sure that ``sync_image_data`` is set to True",
     "output_type": "error",
     "traceback": [
      "\u001b[1;31m---------------------------------------------------------------------------\u001b[0m",
      "\u001b[1;31mRuntimeError\u001b[0m                              Traceback (most recent call last)",
      "\u001b[1;32m<ipython-input-4-e41526fa7b9f>\u001b[0m in \u001b[0;36m<module>\u001b[1;34m\u001b[0m\n\u001b[1;32m----> 1\u001b[1;33m \u001b[0mcanvas\u001b[0m\u001b[1;33m.\u001b[0m\u001b[0mto_file\u001b[0m\u001b[1;33m(\u001b[0m\u001b[1;34m'T2CJCastaneda.png'\u001b[0m\u001b[1;33m)\u001b[0m\u001b[1;33m\u001b[0m\u001b[1;33m\u001b[0m\u001b[0m\n\u001b[0m",
      "\u001b[1;32m~\\Anaconda3\\lib\\site-packages\\ipycanvas\\canvas.py\u001b[0m in \u001b[0;36mto_file\u001b[1;34m(self, filename)\u001b[0m\n\u001b[0;32m     42\u001b[0m         \"\"\"\n\u001b[0;32m     43\u001b[0m         \u001b[1;32mif\u001b[0m \u001b[0mself\u001b[0m\u001b[1;33m.\u001b[0m\u001b[0mimage_data\u001b[0m \u001b[1;32mis\u001b[0m \u001b[1;32mNone\u001b[0m\u001b[1;33m:\u001b[0m\u001b[1;33m\u001b[0m\u001b[1;33m\u001b[0m\u001b[0m\n\u001b[1;32m---> 44\u001b[1;33m             \u001b[1;32mraise\u001b[0m \u001b[0mRuntimeError\u001b[0m\u001b[1;33m(\u001b[0m\u001b[1;34m'No image data to save, please be sure that ``sync_image_data`` is set to True'\u001b[0m\u001b[1;33m)\u001b[0m\u001b[1;33m\u001b[0m\u001b[1;33m\u001b[0m\u001b[0m\n\u001b[0m\u001b[0;32m     45\u001b[0m         \u001b[1;32mif\u001b[0m \u001b[1;32mnot\u001b[0m \u001b[0mfilename\u001b[0m\u001b[1;33m.\u001b[0m\u001b[0mendswith\u001b[0m\u001b[1;33m(\u001b[0m\u001b[1;34m'.png'\u001b[0m\u001b[1;33m)\u001b[0m \u001b[1;32mand\u001b[0m \u001b[1;32mnot\u001b[0m \u001b[0mfilename\u001b[0m\u001b[1;33m.\u001b[0m\u001b[0mendswith\u001b[0m\u001b[1;33m(\u001b[0m\u001b[1;34m'.PNG'\u001b[0m\u001b[1;33m)\u001b[0m\u001b[1;33m:\u001b[0m\u001b[1;33m\u001b[0m\u001b[1;33m\u001b[0m\u001b[0m\n\u001b[0;32m     46\u001b[0m             \u001b[1;32mraise\u001b[0m \u001b[0mRuntimeError\u001b[0m\u001b[1;33m(\u001b[0m\u001b[1;34m'Can only save to a PNG file'\u001b[0m\u001b[1;33m)\u001b[0m\u001b[1;33m\u001b[0m\u001b[1;33m\u001b[0m\u001b[0m\n",
      "\u001b[1;31mRuntimeError\u001b[0m: No image data to save, please be sure that ``sync_image_data`` is set to True"
     ]
    }
   ],
   "source": [
    "canvas.to_file('T2CJCastaneda.png')"
   ]
  },
  {
   "cell_type": "code",
   "execution_count": null,
   "metadata": {},
   "outputs": [],
   "source": []
  },
  {
   "cell_type": "code",
   "execution_count": null,
   "metadata": {},
   "outputs": [],
   "source": []
  }
 ],
 "metadata": {
  "kernelspec": {
   "display_name": "Python 3",
   "language": "python",
   "name": "python3"
  },
  "language_info": {
   "codemirror_mode": {
    "name": "ipython",
    "version": 3
   },
   "file_extension": ".py",
   "mimetype": "text/x-python",
   "name": "python",
   "nbconvert_exporter": "python",
   "pygments_lexer": "ipython3",
   "version": "3.8.3"
  }
 },
 "nbformat": 4,
 "nbformat_minor": 4
}
